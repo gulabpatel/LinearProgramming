{
  "cells": [
    {
      "cell_type": "markdown",
      "metadata": {
        "id": "view-in-github",
        "colab_type": "text"
      },
      "source": [
        "<a href=\"https://colab.research.google.com/github/gulabpatel/LinearProgramming/blob/main/01%3A%20Scipy_NonLinear_optimize_minimize_SLSQP_.ipynb\" target=\"_parent\"><img src=\"https://colab.research.google.com/assets/colab-badge.svg\" alt=\"Open In Colab\"/></a>"
      ]
    },
    {
      "cell_type": "markdown",
      "source": [
        "Video help : https://www.youtube.com/watch?v=cXHvC_FGx24"
      ],
      "metadata": {
        "id": "w7TZKCJoxbmo"
      }
    },
    {
      "cell_type": "markdown",
      "source": [
        "  Variables<br>\n",
        "\n",
        "    1<= x1, x2, x3, x4 <=5\n",
        "    x = (1,5,5,1)\n",
        "  \n",
        "\n",
        "  Equations<br>\n",
        "\n",
        "    x1*x2*x3*x4 > 25\n",
        "    (x1)^2 + (x2)^2 + (x3)^2 + (x4)^2 = 40\n",
        "    minimize  x1*x4*(x1+x2+x3) + x3 "
      ],
      "metadata": {
        "id": "IFDAHIoXq9kc"
      }
    },
    {
      "cell_type": "code",
      "source": [
        "import numpy as np\n",
        "from scipy.optimize import minimize\n",
        "\n",
        "def objective(x):\n",
        "    return x[0]*x[3]*(x[0]+x[1]+x[2])+x[2]\n",
        "\n",
        "def constraint1(x):\n",
        "    return x[0]*x[1]*x[2]*x[3]-25.0\n",
        "\n",
        "def constraint2(x):\n",
        "    sum_eq = 40.0\n",
        "    for i in range(4):\n",
        "        sum_eq = sum_eq - x[i]**2\n",
        "    return sum_eq"
      ],
      "metadata": {
        "id": "W0ESIiHTo5MM"
      },
      "execution_count": 20,
      "outputs": []
    },
    {
      "cell_type": "code",
      "source": [
        "# initial guesses\n",
        "n = 4\n",
        "x0 = np.zeros(n)\n",
        "x0[0] = 1.0\n",
        "x0[1] = 5.0\n",
        "x0[2] = 5.0\n",
        "x0[3] = 1.0\n",
        "print(x0)\n",
        "# show initial objective\n",
        "print('Initial Objective: ' + str(objective(x0)))"
      ],
      "metadata": {
        "colab": {
          "base_uri": "https://localhost:8080/"
        },
        "id": "AGYhR9Gxt9AU",
        "outputId": "5661d21c-a929-4d05-e835-cc601b7e0548"
      },
      "execution_count": 21,
      "outputs": [
        {
          "output_type": "stream",
          "name": "stdout",
          "text": [
            "[1. 5. 5. 1.]\n",
            "Initial Objective: 16.0\n"
          ]
        }
      ]
    },
    {
      "cell_type": "code",
      "source": [
        "# optimize\n",
        "b = (1.0,5.0)\n",
        "bnds = (b, b, b, b)\n",
        "con1 = {'type': 'ineq', 'fun': constraint1}\n",
        "con2 = {'type': 'eq', 'fun': constraint2}\n",
        "cons = ([con1,con2])\n",
        "solution = minimize(objective,x0,method='SLSQP',bounds=bnds,constraints=cons)\n",
        "print('Solution: ', solution)\n",
        "x = solution.x\n",
        "print()\n",
        "# show final objective\n",
        "print('Final Objective: ' + str(objective(x)))\n",
        "# print solution\n",
        "print('Solution')\n",
        "print('x1 = ' + str(x[0]))\n",
        "print('x2 = ' + str(x[1]))\n",
        "print('x3 = ' + str(x[2]))\n",
        "print('x4 = ' + str(x[3]))"
      ],
      "metadata": {
        "colab": {
          "base_uri": "https://localhost:8080/"
        },
        "id": "P9_isQI4t_As",
        "outputId": "a21617d7-e262-4b7d-884d-ef4567bb2ecf"
      },
      "execution_count": 25,
      "outputs": [
        {
          "output_type": "stream",
          "name": "stdout",
          "text": [
            "Solution:       fun: 17.01401724563517\n",
            "     jac: array([14.57227015,  1.37940764,  2.37940764,  9.56415057])\n",
            " message: 'Optimization terminated successfully.'\n",
            "    nfev: 30\n",
            "     nit: 5\n",
            "    njev: 5\n",
            "  status: 0\n",
            " success: True\n",
            "       x: array([1.        , 4.7429961 , 3.82115462, 1.37940765])\n",
            "\n",
            "Final Objective: 17.01401724563517\n",
            "Solution\n",
            "x1 = 1.0\n",
            "x2 = 4.742996096883977\n",
            "x3 = 3.8211546234095715\n",
            "x4 = 1.379407645075325\n"
          ]
        }
      ]
    }
  ],
  "metadata": {
    "kernelspec": {
      "name": "python3",
      "display_name": "Python 3.6",
      "language": "python"
    },
    "language_info": {
      "name": "python",
      "version": "3.6.9",
      "mimetype": "text/x-python",
      "codemirror_mode": {
        "name": "ipython",
        "version": 3
      },
      "pygments_lexer": "ipython3",
      "nbconvert_exporter": "python",
      "file_extension": ".py"
    },
    "colab": {
      "name": "01: Scipy NonLinear_optimize minimize_SLSQP .ipynb",
      "provenance": [],
      "collapsed_sections": [],
      "include_colab_link": true
    }
  },
  "nbformat": 4,
  "nbformat_minor": 0
}